{
  "nbformat": 4,
  "nbformat_minor": 0,
  "metadata": {
    "colab": {
      "name": "collections_part02.ipynb",
      "provenance": [],
      "authorship_tag": "ABX9TyNtwGM6gAnPF0kwkpZV2eQI"
    },
    "kernelspec": {
      "name": "python3",
      "display_name": "Python 3"
    },
    "language_info": {
      "name": "python"
    }
  },
  "cells": [
    {
      "cell_type": "code",
      "execution_count": null,
      "metadata": {
        "id": "6Yehgh_MOaJG"
      },
      "outputs": [],
      "source": [
        "usuarios_ds = [47, 50, 36, 67]\n",
        "usuarios_ml = [47, 89, 36, 93]"
      ]
    },
    {
      "cell_type": "code",
      "source": [
        "assistiram = usuarios_ds.copy()\n",
        "assistiram.extend(usuarios_ml)\n",
        "assistiram"
      ],
      "metadata": {
        "colab": {
          "base_uri": "https://localhost:8080/"
        },
        "id": "e1agBT21PO-1",
        "outputId": "afeb8182-e9b9-40ba-b037-6a51fe9c7541"
      },
      "execution_count": null,
      "outputs": [
        {
          "output_type": "execute_result",
          "data": {
            "text/plain": [
              "[10, 50, 36, 67, 47, 89, 36, 93]"
            ]
          },
          "metadata": {},
          "execution_count": 11
        }
      ]
    },
    {
      "cell_type": "code",
      "source": [
        "set(assistiram)"
      ],
      "metadata": {
        "colab": {
          "base_uri": "https://localhost:8080/"
        },
        "id": "IK3HGewKQURe",
        "outputId": "f564d518-8c47-4c29-cfde-b7998bd290b0"
      },
      "execution_count": null,
      "outputs": [
        {
          "output_type": "execute_result",
          "data": {
            "text/plain": [
              "{10, 36, 47, 50, 67, 89, 93}"
            ]
          },
          "metadata": {},
          "execution_count": 9
        }
      ]
    },
    {
      "cell_type": "code",
      "source": [
        "for usuario in set(assistiram):\n",
        "  print(usuario)"
      ],
      "metadata": {
        "colab": {
          "base_uri": "https://localhost:8080/"
        },
        "id": "gRu42jefSn3o",
        "outputId": "742b3f33-497a-4b42-c9a7-1489b5e83617"
      },
      "execution_count": null,
      "outputs": [
        {
          "output_type": "stream",
          "name": "stdout",
          "text": [
            "67\n",
            "36\n",
            "10\n",
            "47\n",
            "50\n",
            "89\n",
            "93\n"
          ]
        }
      ]
    },
    {
      "cell_type": "code",
      "source": [
        "usuarios_ds = {47, 50, 36, 67}\n",
        "usuarios_ml = {47, 89, 36, 93}"
      ],
      "metadata": {
        "id": "rUGGdZ-tToUe"
      },
      "execution_count": null,
      "outputs": []
    },
    {
      "cell_type": "code",
      "source": [
        "usuarios_ml & usuarios_ds"
      ],
      "metadata": {
        "colab": {
          "base_uri": "https://localhost:8080/"
        },
        "id": "yL_DgqKZTacZ",
        "outputId": "3761db38-ea39-4fbc-af62-c9d06b4704ea"
      },
      "execution_count": null,
      "outputs": [
        {
          "output_type": "execute_result",
          "data": {
            "text/plain": [
              "{36, 47}"
            ]
          },
          "metadata": {},
          "execution_count": 16
        }
      ]
    },
    {
      "cell_type": "code",
      "source": [
        "usuarios_ds - usuarios_ml"
      ],
      "metadata": {
        "colab": {
          "base_uri": "https://localhost:8080/"
        },
        "id": "0SBJS57sUAIN",
        "outputId": "1fdddadb-7ca1-43e3-cb29-4be964412fd0"
      },
      "execution_count": null,
      "outputs": [
        {
          "output_type": "execute_result",
          "data": {
            "text/plain": [
              "{50, 67}"
            ]
          },
          "metadata": {},
          "execution_count": 17
        }
      ]
    },
    {
      "cell_type": "code",
      "source": [
        "texto = 'eu sou a anna e gosto muito de manga e banana'"
      ],
      "metadata": {
        "id": "gxSvu8O_aS3e"
      },
      "execution_count": 3,
      "outputs": []
    },
    {
      "cell_type": "code",
      "source": [
        "set(texto.split())"
      ],
      "metadata": {
        "colab": {
          "base_uri": "https://localhost:8080/"
        },
        "id": "27i_E5yjaacJ",
        "outputId": "db6e350d-43cd-4991-e7d2-e9d570fbaa9a"
      },
      "execution_count": null,
      "outputs": [
        {
          "output_type": "execute_result",
          "data": {
            "text/plain": [
              "{'a', 'anna', 'banana', 'de', 'e', 'eu', 'gosto', 'manga', 'muito', 'sou'}"
            ]
          },
          "metadata": {},
          "execution_count": 19
        }
      ]
    },
    {
      "cell_type": "markdown",
      "source": [
        "dicionários\n"
      ],
      "metadata": {
        "id": "ziura31jQzmb"
      }
    },
    {
      "cell_type": "code",
      "source": [
        "aparicoes = {\n",
        "    'anna': 1,\n",
        "    'e': 2,\n",
        "    'manga': 1\n",
        "}"
      ],
      "metadata": {
        "id": "1TQt6f2kQ29l"
      },
      "execution_count": 4,
      "outputs": []
    },
    {
      "cell_type": "code",
      "source": [
        "aparicoes['a']"
      ],
      "metadata": {
        "colab": {
          "base_uri": "https://localhost:8080/",
          "height": 172
        },
        "id": "42afuyDFRgiV",
        "outputId": "c16be132-e88a-47b8-aba0-3f182ba242e7"
      },
      "execution_count": 4,
      "outputs": [
        {
          "output_type": "error",
          "ename": "KeyError",
          "evalue": "ignored",
          "traceback": [
            "\u001b[0;31m---------------------------------------------------------------------------\u001b[0m",
            "\u001b[0;31mKeyError\u001b[0m                                  Traceback (most recent call last)",
            "\u001b[0;32m<ipython-input-4-470475d65260>\u001b[0m in \u001b[0;36m<module>\u001b[0;34m\u001b[0m\n\u001b[0;32m----> 1\u001b[0;31m \u001b[0maparicoes\u001b[0m\u001b[0;34m[\u001b[0m\u001b[0;34m'a'\u001b[0m\u001b[0;34m]\u001b[0m\u001b[0;34m\u001b[0m\u001b[0;34m\u001b[0m\u001b[0m\n\u001b[0m",
            "\u001b[0;31mKeyError\u001b[0m: 'a'"
          ]
        }
      ]
    },
    {
      "cell_type": "code",
      "source": [
        "for elementos in aparicoes:\n",
        "  print(elementos)"
      ],
      "metadata": {
        "colab": {
          "base_uri": "https://localhost:8080/"
        },
        "id": "zrkJlu62VgQh",
        "outputId": "af46c624-49ce-46fe-afd4-716f95914ec5"
      },
      "execution_count": 6,
      "outputs": [
        {
          "output_type": "stream",
          "name": "stdout",
          "text": [
            "anna\n",
            "e\n",
            "manga\n"
          ]
        }
      ]
    },
    {
      "cell_type": "code",
      "source": [
        "for elementos in aparicoes.keys():\n",
        "  print(elementos)"
      ],
      "metadata": {
        "colab": {
          "base_uri": "https://localhost:8080/"
        },
        "id": "kP6xnZIAV5Yi",
        "outputId": "eff0c200-363a-49d5-ad80-cf1234a5a9f3"
      },
      "execution_count": 11,
      "outputs": [
        {
          "output_type": "stream",
          "name": "stdout",
          "text": [
            "anna\n",
            "e\n",
            "manga\n"
          ]
        }
      ]
    },
    {
      "cell_type": "code",
      "source": [
        "for elemento in aparicoes.items():\n",
        "  print(elemento)"
      ],
      "metadata": {
        "colab": {
          "base_uri": "https://localhost:8080/"
        },
        "id": "rAFB1641WK0Y",
        "outputId": "0ef794cd-af8d-4c51-ae69-d54460d0be8d"
      },
      "execution_count": 15,
      "outputs": [
        {
          "output_type": "stream",
          "name": "stdout",
          "text": [
            "('anna', 1)\n",
            "('e', 2)\n",
            "('manga', 1)\n"
          ]
        }
      ]
    },
    {
      "cell_type": "code",
      "source": [
        "for elementos in aparicoes.keys():\n",
        "  print(elementos, aparicoes[elementos])"
      ],
      "metadata": {
        "colab": {
          "base_uri": "https://localhost:8080/"
        },
        "id": "91kZypHeWrz2",
        "outputId": "9612c3aa-a57e-4341-abfa-a025ebaa93d4"
      },
      "execution_count": 13,
      "outputs": [
        {
          "output_type": "stream",
          "name": "stdout",
          "text": [
            "anna 1\n",
            "e 2\n",
            "manga 1\n"
          ]
        }
      ]
    },
    {
      "cell_type": "code",
      "source": [
        "for chave, valor in aparicoes.items():\n",
        "  print(chave, '=' , valor)"
      ],
      "metadata": {
        "colab": {
          "base_uri": "https://localhost:8080/"
        },
        "id": "xOE76GwDXCJ0",
        "outputId": "65e35eec-c0e6-4e8c-e07d-ead025316244"
      },
      "execution_count": 21,
      "outputs": [
        {
          "output_type": "stream",
          "name": "stdout",
          "text": [
            "anna = 1\n",
            "e = 2\n",
            "manga = 1\n"
          ]
        }
      ]
    },
    {
      "cell_type": "code",
      "source": [
        "texto = 'eu sou a anna e gosto muito de manga e banana'\n",
        "texto.lower()\n",
        "\n",
        "aparicoes = {}\n",
        "for palavra in texto.split():\n",
        "  ate_agora = aparicoes.get(palavra, 0)\n",
        "  aparicoes[palavra] = ate_agora+1\n",
        "  \n",
        "aparicoes"
      ],
      "metadata": {
        "colab": {
          "base_uri": "https://localhost:8080/"
        },
        "id": "iFkmhmiuqzlu",
        "outputId": "7737bd57-16e3-4c9f-8487-9bcee40bbf85"
      },
      "execution_count": 5,
      "outputs": [
        {
          "output_type": "execute_result",
          "data": {
            "text/plain": [
              "{'eu': 1,\n",
              " 'sou': 1,\n",
              " 'a': 1,\n",
              " 'anna': 1,\n",
              " 'e': 2,\n",
              " 'gosto': 1,\n",
              " 'muito': 1,\n",
              " 'de': 1,\n",
              " 'manga': 1,\n",
              " 'banana': 1}"
            ]
          },
          "metadata": {},
          "execution_count": 5
        }
      ]
    },
    {
      "cell_type": "code",
      "source": [
        "from collections import defaultdict #importando dicionario\n",
        "\n",
        "aparicoes = defaultdict(int)\n",
        "\n",
        "for palavra in texto.split():\n",
        "  aparicoes[palavra] += 1\n",
        "  \n",
        "aparicoes"
      ],
      "metadata": {
        "colab": {
          "base_uri": "https://localhost:8080/"
        },
        "id": "ritgDW5qse5u",
        "outputId": "0e253f65-3a81-4198-8623-edc72592fa24"
      },
      "execution_count": 6,
      "outputs": [
        {
          "output_type": "execute_result",
          "data": {
            "text/plain": [
              "defaultdict(int,\n",
              "            {'eu': 1,\n",
              "             'sou': 1,\n",
              "             'a': 1,\n",
              "             'anna': 1,\n",
              "             'e': 2,\n",
              "             'gosto': 1,\n",
              "             'muito': 1,\n",
              "             'de': 1,\n",
              "             'manga': 1,\n",
              "             'banana': 1})"
            ]
          },
          "metadata": {},
          "execution_count": 6
        }
      ]
    },
    {
      "cell_type": "code",
      "source": [
        "dicionario = defaultdict(int)\n",
        "dicionario['anna']"
      ],
      "metadata": {
        "colab": {
          "base_uri": "https://localhost:8080/"
        },
        "id": "lhmoMHPStmKR",
        "outputId": "07614dd0-6723-48e8-8377-49f6c0c631de"
      },
      "execution_count": 34,
      "outputs": [
        {
          "output_type": "execute_result",
          "data": {
            "text/plain": [
              "0"
            ]
          },
          "metadata": {},
          "execution_count": 34
        }
      ]
    },
    {
      "cell_type": "code",
      "source": [
        "dicionario['anna'] =10\n",
        "dicionario['anna']"
      ],
      "metadata": {
        "colab": {
          "base_uri": "https://localhost:8080/"
        },
        "id": "vR2NhpS8tveE",
        "outputId": "99022bb1-0112-4ba1-fc1c-d03b35d090ea"
      },
      "execution_count": 36,
      "outputs": [
        {
          "output_type": "execute_result",
          "data": {
            "text/plain": [
              "10"
            ]
          },
          "metadata": {},
          "execution_count": 36
        }
      ]
    },
    {
      "cell_type": "code",
      "source": [
        "class Conta:\n",
        "  def __init__(self):\n",
        "    print('criando uma conta')\n",
        "  "
      ],
      "metadata": {
        "id": "bIELwhx0FC-D"
      },
      "execution_count": 9,
      "outputs": []
    },
    {
      "cell_type": "code",
      "source": [
        "contas = defaultdict(Conta)\n",
        "contas[10]"
      ],
      "metadata": {
        "colab": {
          "base_uri": "https://localhost:8080/"
        },
        "id": "zrfNQaFjFL8i",
        "outputId": "a474200c-f8b5-4f9c-be9f-745a0f09d12e"
      },
      "execution_count": 10,
      "outputs": [
        {
          "output_type": "stream",
          "name": "stdout",
          "text": [
            "criando uma conta\n"
          ]
        },
        {
          "output_type": "execute_result",
          "data": {
            "text/plain": [
              "<__main__.Conta at 0x7fe30937a890>"
            ]
          },
          "metadata": {},
          "execution_count": 10
        }
      ]
    },
    {
      "cell_type": "code",
      "source": [
        "from collections import Counter\n",
        "aparicoes = Counter()\n",
        "for palavra in texto.split():\n",
        "  aparicoes[palavra] += 1\n",
        "\n",
        "aparicoes"
      ],
      "metadata": {
        "colab": {
          "base_uri": "https://localhost:8080/"
        },
        "id": "ZzD-oXjzFk41",
        "outputId": "dbe95676-c5a6-43eb-f2af-c7e792ef0082"
      },
      "execution_count": 12,
      "outputs": [
        {
          "output_type": "execute_result",
          "data": {
            "text/plain": [
              "Counter({'eu': 1,\n",
              "         'sou': 1,\n",
              "         'a': 1,\n",
              "         'anna': 1,\n",
              "         'e': 2,\n",
              "         'gosto': 1,\n",
              "         'muito': 1,\n",
              "         'de': 1,\n",
              "         'manga': 1,\n",
              "         'banana': 1})"
            ]
          },
          "metadata": {},
          "execution_count": 12
        }
      ]
    },
    {
      "cell_type": "code",
      "source": [
        "aparicoes = Counter(texto.split())\n",
        "\n",
        "aparicoes"
      ],
      "metadata": {
        "colab": {
          "base_uri": "https://localhost:8080/"
        },
        "id": "4MiBXf3iFvUv",
        "outputId": "d58c6bf1-dcef-4703-fe0e-0fa955aa3077"
      },
      "execution_count": 13,
      "outputs": [
        {
          "output_type": "execute_result",
          "data": {
            "text/plain": [
              "Counter({'eu': 1,\n",
              "         'sou': 1,\n",
              "         'a': 1,\n",
              "         'anna': 1,\n",
              "         'e': 2,\n",
              "         'gosto': 1,\n",
              "         'muito': 1,\n",
              "         'de': 1,\n",
              "         'manga': 1,\n",
              "         'banana': 1})"
            ]
          },
          "metadata": {},
          "execution_count": 13
        }
      ]
    },
    {
      "cell_type": "markdown",
      "source": [
        "pratica com collections\n"
      ],
      "metadata": {
        "id": "jcfuu_BaGnhc"
      }
    },
    {
      "cell_type": "code",
      "source": [
        "texto1 = '''O Kotlin é gerenciado pela Kotlin Foundation, um grupo criado pela Jet Brains e pelo Google com a tarefa de promover e desenvolver continuamente essa linguagem de programação.'''\n",
        "\n",
        "texto2 = '''Neste vídeo, Felipe Labouriau apresenta 11 dicas para o trabalho com o software Adobe InDesign. Elas buscam trazer para você ferramentas pouco conhecidas, técnicas alternativas e atalhos que podem ajudar que a criação seja mais ágil e rica.'''\n"
      ],
      "metadata": {
        "id": "aEb7PHeTGrOA"
      },
      "execution_count": 15,
      "outputs": []
    },
    {
      "cell_type": "code",
      "source": [
        "for palavra in texto1.split():\n",
        "  print(palavra)"
      ],
      "metadata": {
        "colab": {
          "base_uri": "https://localhost:8080/"
        },
        "id": "wddHlA8UHZKx",
        "outputId": "816229b1-cc0c-4e21-dcf7-0c34cb33867e"
      },
      "execution_count": 16,
      "outputs": [
        {
          "output_type": "stream",
          "name": "stdout",
          "text": [
            "O\n",
            "Kotlin\n",
            "é\n",
            "gerenciado\n",
            "pela\n",
            "Kotlin\n",
            "Foundation,\n",
            "um\n",
            "grupo\n",
            "criado\n",
            "pela\n",
            "Jet\n",
            "Brains\n",
            "e\n",
            "pelo\n",
            "Google\n",
            "com\n",
            "a\n",
            "tarefa\n",
            "de\n",
            "promover\n",
            "e\n",
            "desenvolver\n",
            "continuamente\n",
            "essa\n",
            "linguagem\n",
            "de\n",
            "programação.\n"
          ]
        }
      ]
    },
    {
      "cell_type": "code",
      "source": [
        "def analise_letras_frequencia(texto):\n",
        "  aparicoes = Counter(texto.lower())\n",
        "  total_caracters = sum(aparicoes.values())\n",
        "\n",
        "  proporcoes = [(letra, frequencia/total_caracters) for letra, frequencia in aparicoes.items()]\n",
        "  proporcoes = Counter(dict(proporcoes))\n",
        "  mais_comuns = proporcoes.most_common()\n",
        "  for caracter, proporcao in mais_comuns:\n",
        "    print('{} => {:.2f}% '.format(caracter, proporcao * 100))\n",
        "\n"
      ],
      "metadata": {
        "id": "F7XXOf59Hrrh"
      },
      "execution_count": 34,
      "outputs": []
    },
    {
      "cell_type": "code",
      "source": [
        "analise_letras_frequencia(texto1)"
      ],
      "metadata": {
        "colab": {
          "base_uri": "https://localhost:8080/"
        },
        "id": "NL6t_WrWInRd",
        "outputId": "bae8c9ef-1658-4ea1-a803-8143ad8cb0f7"
      },
      "execution_count": 35,
      "outputs": [
        {
          "output_type": "stream",
          "name": "stdout",
          "text": [
            "  => 15.43% \n",
            "e => 11.43% \n",
            "o => 10.29% \n",
            "a => 8.00% \n",
            "n => 6.29% \n",
            "r => 5.71% \n",
            "l => 4.57% \n",
            "i => 4.57% \n",
            "t => 4.00% \n",
            "g => 4.00% \n",
            "d => 3.43% \n",
            "p => 3.43% \n",
            "m => 3.43% \n",
            "u => 2.86% \n",
            "c => 2.29% \n",
            "s => 2.29% \n",
            "v => 1.71% \n",
            "k => 1.14% \n",
            "f => 1.14% \n",
            "é => 0.57% \n",
            ", => 0.57% \n",
            "j => 0.57% \n",
            "b => 0.57% \n",
            "ç => 0.57% \n",
            "ã => 0.57% \n",
            ". => 0.57% \n"
          ]
        }
      ]
    },
    {
      "cell_type": "code",
      "source": [
        "analise_letras_frequencia(texto2)"
      ],
      "metadata": {
        "colab": {
          "base_uri": "https://localhost:8080/"
        },
        "id": "zm-6YVOgLjt2",
        "outputId": "59a549bf-b257-407c-ea5e-6fe63c4f5bf8"
      },
      "execution_count": 36,
      "outputs": [
        {
          "output_type": "stream",
          "name": "stdout",
          "text": [
            "  => 15.42% \n",
            "a => 13.33% \n",
            "e => 9.17% \n",
            "o => 6.25% \n",
            "s => 5.83% \n",
            "r => 5.83% \n",
            "i => 5.00% \n",
            "c => 4.58% \n",
            "t => 4.17% \n",
            "n => 3.33% \n",
            "d => 2.92% \n",
            "l => 2.92% \n",
            "u => 2.92% \n",
            "p => 2.50% \n",
            "m => 2.08% \n",
            "b => 1.67% \n",
            "v => 1.25% \n",
            "f => 1.25% \n",
            "h => 1.25% \n",
            ", => 0.83% \n",
            "1 => 0.83% \n",
            "g => 0.83% \n",
            ". => 0.83% \n",
            "q => 0.83% \n",
            "j => 0.83% \n",
            "í => 0.42% \n",
            "w => 0.42% \n",
            "z => 0.42% \n",
            "ê => 0.42% \n",
            "é => 0.42% \n",
            "ç => 0.42% \n",
            "ã => 0.42% \n",
            "á => 0.42% \n"
          ]
        }
      ]
    }
  ]
}