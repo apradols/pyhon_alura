{
  "nbformat": 4,
  "nbformat_minor": 0,
  "metadata": {
    "colab": {
      "name": "introducao_collections.ipynb",
      "provenance": [],
      "collapsed_sections": [],
      "authorship_tag": "ABX9TyMoLOOLG38KbrFoyifE8ajv",
      "include_colab_link": true
    },
    "kernelspec": {
      "name": "python3",
      "display_name": "Python 3"
    },
    "language_info": {
      "name": "python"
    }
  },
  "cells": [
    {
      "cell_type": "markdown",
      "metadata": {
        "id": "view-in-github",
        "colab_type": "text"
      },
      "source": [
        "<a href=\"https://colab.research.google.com/github/apradols/pyhon_alura/blob/main/introducao_collections.ipynb\" target=\"_parent\"><img src=\"https://colab.research.google.com/assets/colab-badge.svg\" alt=\"Open In Colab\"/></a>"
      ]
    },
    {
      "cell_type": "code",
      "execution_count": null,
      "metadata": {
        "colab": {
          "base_uri": "https://localhost:8080/"
        },
        "id": "E4PGVG32m-de",
        "outputId": "8730a87a-bf41-4a97-fd23-e82949ab1808"
      },
      "outputs": [
        {
          "output_type": "stream",
          "name": "stdout",
          "text": [
            "[9, 10, 22, 19]\n"
          ]
        }
      ],
      "source": [
        "idades =[9, 10, 22, 19]\n",
        "print(idades)"
      ]
    },
    {
      "cell_type": "code",
      "source": [
        "len(idades)"
      ],
      "metadata": {
        "colab": {
          "base_uri": "https://localhost:8080/"
        },
        "id": "R2IbSKinoNWw",
        "outputId": "d76c9afe-7e1f-48fb-d972-2572c2c6f940"
      },
      "execution_count": null,
      "outputs": [
        {
          "output_type": "execute_result",
          "data": {
            "text/plain": [
              "4"
            ]
          },
          "metadata": {},
          "execution_count": 2
        }
      ]
    },
    {
      "cell_type": "code",
      "source": [
        "idades.clear()"
      ],
      "metadata": {
        "id": "jCVwlVPooUWk"
      },
      "execution_count": null,
      "outputs": []
    },
    {
      "cell_type": "code",
      "source": [
        "idades"
      ],
      "metadata": {
        "colab": {
          "base_uri": "https://localhost:8080/"
        },
        "id": "sx7AF0F4pL8r",
        "outputId": "00bd5d5d-5435-4cdc-9dae-0601bb2638a8"
      },
      "execution_count": null,
      "outputs": [
        {
          "output_type": "execute_result",
          "data": {
            "text/plain": [
              "[]"
            ]
          },
          "metadata": {},
          "execution_count": 4
        }
      ]
    },
    {
      "cell_type": "code",
      "source": [
        "idades =[9, 10, 22, 19]\n"
      ],
      "metadata": {
        "id": "adKSoG7OpvSu"
      },
      "execution_count": null,
      "outputs": []
    },
    {
      "cell_type": "code",
      "source": [
        "idades.insert(2,80)\n",
        "print(idades)"
      ],
      "metadata": {
        "colab": {
          "base_uri": "https://localhost:8080/"
        },
        "id": "wctMeTw1pyAl",
        "outputId": "8aeaa6b2-37db-42f6-a45d-333fce910ae9"
      },
      "execution_count": null,
      "outputs": [
        {
          "output_type": "stream",
          "name": "stdout",
          "text": [
            "[9, 10, 80, 22, 19]\n"
          ]
        }
      ]
    },
    {
      "cell_type": "code",
      "source": [
        "idades_cinco_anos = []\n",
        "for idade in idades:\n",
        "  idades_cinco_anos.append(idade+5)\n",
        "idades_cinco_anos"
      ],
      "metadata": {
        "colab": {
          "base_uri": "https://localhost:8080/"
        },
        "id": "xWcaIhG9tGQM",
        "outputId": "bf6e01f0-a1a4-4501-c60c-a128fecd5fa6"
      },
      "execution_count": null,
      "outputs": [
        {
          "output_type": "execute_result",
          "data": {
            "text/plain": [
              "[14, 15, 85, 27, 24]"
            ]
          },
          "metadata": {},
          "execution_count": 7
        }
      ]
    },
    {
      "cell_type": "code",
      "source": [
        "[(idade+5) for idade in idades]"
      ],
      "metadata": {
        "colab": {
          "base_uri": "https://localhost:8080/"
        },
        "id": "DwrH7s4kt0x8",
        "outputId": "9978d07e-4369-40d7-e096-b2cab216f0e6"
      },
      "execution_count": null,
      "outputs": [
        {
          "output_type": "execute_result",
          "data": {
            "text/plain": [
              "[14, 15, 85, 27, 24]"
            ]
          },
          "metadata": {},
          "execution_count": 8
        }
      ]
    },
    {
      "cell_type": "code",
      "source": [
        "def proximo_ano(idade):\n",
        "  return idade+1\n",
        "\n",
        "[(idade) for idade in idades if idade > 21]"
      ],
      "metadata": {
        "colab": {
          "base_uri": "https://localhost:8080/"
        },
        "id": "OzKylPTNuMZz",
        "outputId": "9522fa72-43f1-4af4-96df-9ac25b3ccca4"
      },
      "execution_count": null,
      "outputs": [
        {
          "output_type": "execute_result",
          "data": {
            "text/plain": [
              "[80, 22]"
            ]
          },
          "metadata": {},
          "execution_count": 9
        }
      ]
    },
    {
      "cell_type": "code",
      "source": [
        "class ContaCorrente:\n",
        "  def __init__(self, codigo):\n",
        "    self.codigo = codigo\n",
        "    self.saldo = 0\n",
        "\n",
        "  def depositar(self, valor):\n",
        "    self.saldo += valor\n",
        "\n",
        "  def __str__(self):\n",
        "      return \"[>>codigo {} saldo {}<<]\" . format(self.codigo, self.saldo)"
      ],
      "metadata": {
        "id": "IZkQHIpofJRF"
      },
      "execution_count": null,
      "outputs": []
    },
    {
      "cell_type": "code",
      "source": [
        "conta01 = ContaCorrente(15)\n",
        "print(conta01)"
      ],
      "metadata": {
        "colab": {
          "base_uri": "https://localhost:8080/"
        },
        "id": "9b8_Cqjpicto",
        "outputId": "4ed88763-3bbb-49ef-bbf8-b48137405c48"
      },
      "execution_count": null,
      "outputs": [
        {
          "output_type": "stream",
          "name": "stdout",
          "text": [
            "[>>codigo 15 saldo 0<<]\n"
          ]
        }
      ]
    },
    {
      "cell_type": "code",
      "source": [
        "conta01.depositar(600)\n",
        "print(conta01)"
      ],
      "metadata": {
        "colab": {
          "base_uri": "https://localhost:8080/"
        },
        "id": "8ojNkerbiyfN",
        "outputId": "0e066bc2-31ba-4bcf-cdc1-e500d61b64bd"
      },
      "execution_count": null,
      "outputs": [
        {
          "output_type": "stream",
          "name": "stdout",
          "text": [
            "[>>codigo 15 saldo 600<<]\n"
          ]
        }
      ]
    },
    {
      "cell_type": "code",
      "source": [
        "conta02 = ContaCorrente(2)\n",
        "print(conta02)"
      ],
      "metadata": {
        "colab": {
          "base_uri": "https://localhost:8080/"
        },
        "id": "tVnX9JqooNlt",
        "outputId": "66697831-a20d-4319-d82d-429754122793"
      },
      "execution_count": null,
      "outputs": [
        {
          "output_type": "stream",
          "name": "stdout",
          "text": [
            "[>>codigo 2 saldo 0<<]\n"
          ]
        }
      ]
    },
    {
      "cell_type": "code",
      "source": [
        "contas = [conta01, conta02]\n",
        "for conta in contas:\n",
        "  print(conta)"
      ],
      "metadata": {
        "colab": {
          "base_uri": "https://localhost:8080/"
        },
        "id": "LHXkxDix-hlA",
        "outputId": "fc2d6b60-d1de-4114-adae-8cd49992cf7a"
      },
      "execution_count": null,
      "outputs": [
        {
          "output_type": "stream",
          "name": "stdout",
          "text": [
            "[>>codigo 15 saldo 600<<]\n",
            "[>>codigo 2 saldo 0<<]\n"
          ]
        }
      ]
    },
    {
      "cell_type": "code",
      "source": [
        "def deposita_all_contas(contas):\n",
        "  for conta in contas:\n",
        "    conta.depositar(100)\n",
        "\n",
        "contas = [conta01, conta02]\n",
        "\n",
        "print(contas[0], contas[1])\n",
        "deposita_all_contas(contas)\n",
        "print(contas[0], contas[1])"
      ],
      "metadata": {
        "id": "NbU4j-1V-M1a",
        "colab": {
          "base_uri": "https://localhost:8080/"
        },
        "outputId": "0368c7d4-d8c1-4c34-8bb9-21baa6cf65f1"
      },
      "execution_count": null,
      "outputs": [
        {
          "output_type": "stream",
          "name": "stdout",
          "text": [
            "[>>codigo 15 saldo 600<<] [>>codigo 2 saldo 0<<]\n",
            "[>>codigo 15 saldo 700<<] [>>codigo 2 saldo 100<<]\n"
          ]
        }
      ]
    },
    {
      "cell_type": "code",
      "source": [
        "print(contas[0])"
      ],
      "metadata": {
        "colab": {
          "base_uri": "https://localhost:8080/"
        },
        "id": "xxlbjBRgAmdP",
        "outputId": "971dec2e-b681-46ce-da66-b5636abb9ca6"
      },
      "execution_count": null,
      "outputs": [
        {
          "output_type": "stream",
          "name": "stdout",
          "text": [
            "[>>codigo 15 saldo 700<<]\n"
          ]
        }
      ]
    },
    {
      "cell_type": "code",
      "source": [
        "def deposita(conta):\n",
        "  novo_saldo = conta[1] + 100\n",
        "  codigo = conta[0]\n",
        "  return (codigo, novo_saldo)"
      ],
      "metadata": {
        "id": "ivdUUSRDo8To"
      },
      "execution_count": null,
      "outputs": []
    },
    {
      "cell_type": "code",
      "source": [
        "conta01 = (15, 600)\n",
        "deposita(conta01)"
      ],
      "metadata": {
        "colab": {
          "base_uri": "https://localhost:8080/"
        },
        "id": "iL8DcHV0qQA5",
        "outputId": "7368c1c7-8c77-412c-fc26-40c278185d69"
      },
      "execution_count": null,
      "outputs": [
        {
          "output_type": "execute_result",
          "data": {
            "text/plain": [
              "(15, 700)"
            ]
          },
          "metadata": {},
          "execution_count": 3
        }
      ]
    },
    {
      "cell_type": "code",
      "source": [
        "anna = ('Anna', 19, 2002)\n",
        "daniel = ('Daniel', 20, 2002)"
      ],
      "metadata": {
        "id": "GsBisG_pzr0f"
      },
      "execution_count": null,
      "outputs": []
    },
    {
      "cell_type": "code",
      "source": [
        "usuarios = [anna, daniel]\n",
        "usuarios"
      ],
      "metadata": {
        "colab": {
          "base_uri": "https://localhost:8080/"
        },
        "id": "8iPi6V2ltKsW",
        "outputId": "74284cc0-3a86-4b93-c570-05a6e4dc0673"
      },
      "execution_count": null,
      "outputs": [
        {
          "output_type": "execute_result",
          "data": {
            "text/plain": [
              "[('Anna', 19, 2002), ('Daniel', 20, 2002)]"
            ]
          },
          "metadata": {},
          "execution_count": 7
        }
      ]
    },
    {
      "cell_type": "code",
      "source": [
        "usuarios.append(('lili' , 8, 2013))\n",
        "usuarios"
      ],
      "metadata": {
        "colab": {
          "base_uri": "https://localhost:8080/",
          "height": 183
        },
        "id": "zXfJBIFWz5Mi",
        "outputId": "9001f2c3-33a7-41f4-8a3a-b7b2c0eb99b4"
      },
      "execution_count": null,
      "outputs": [
        {
          "output_type": "error",
          "ename": "TypeError",
          "evalue": "ignored",
          "traceback": [
            "\u001b[0;31m---------------------------------------------------------------------------\u001b[0m",
            "\u001b[0;31mTypeError\u001b[0m                                 Traceback (most recent call last)",
            "\u001b[0;32m<ipython-input-11-88c3630e9528>\u001b[0m in \u001b[0;36m<module>\u001b[0;34m()\u001b[0m\n\u001b[0;32m----> 1\u001b[0;31m \u001b[0musuarios\u001b[0m\u001b[0;34m.\u001b[0m\u001b[0mappend\u001b[0m\u001b[0;34m(\u001b[0m\u001b[0;34m'lili'\u001b[0m \u001b[0;34m,\u001b[0m \u001b[0;36m8\u001b[0m\u001b[0;34m,\u001b[0m \u001b[0;36m2013\u001b[0m\u001b[0;34m)\u001b[0m\u001b[0;34m\u001b[0m\u001b[0;34m\u001b[0m\u001b[0m\n\u001b[0m\u001b[1;32m      2\u001b[0m \u001b[0musuarios\u001b[0m\u001b[0;34m\u001b[0m\u001b[0;34m\u001b[0m\u001b[0m\n",
            "\u001b[0;31mTypeError\u001b[0m: append() takes exactly one argument (3 given)"
          ]
        }
      ]
    },
    {
      "cell_type": "code",
      "source": [
        "usuarios = [anna, daniel,]"
      ],
      "metadata": {
        "colab": {
          "base_uri": "https://localhost:8080/",
          "height": 165
        },
        "id": "MJjoLdeg0OhK",
        "outputId": "1fe899e8-f61d-44f4-e2c8-dfb8c1ac44b9"
      },
      "execution_count": null,
      "outputs": [
        {
          "output_type": "error",
          "ename": "NameError",
          "evalue": "ignored",
          "traceback": [
            "\u001b[0;31m---------------------------------------------------------------------------\u001b[0m",
            "\u001b[0;31mNameError\u001b[0m                                 Traceback (most recent call last)",
            "\u001b[0;32m<ipython-input-17-8640ed672e9d>\u001b[0m in \u001b[0;36m<module>\u001b[0;34m()\u001b[0m\n\u001b[0;32m----> 1\u001b[0;31m \u001b[0musuarios\u001b[0m \u001b[0;34m=\u001b[0m \u001b[0;34m[\u001b[0m\u001b[0manna\u001b[0m\u001b[0;34m,\u001b[0m \u001b[0mdaniel\u001b[0m\u001b[0;34m,\u001b[0m \u001b[0mlili\u001b[0m\u001b[0;34m]\u001b[0m\u001b[0;34m\u001b[0m\u001b[0;34m\u001b[0m\u001b[0m\n\u001b[0m",
            "\u001b[0;31mNameError\u001b[0m: name 'lili' is not defined"
          ]
        }
      ]
    },
    {
      "cell_type": "markdown",
      "source": [
        "herança e polimorfismo"
      ],
      "metadata": {
        "id": "jnhKlhz70-7v"
      }
    },
    {
      "cell_type": "code",
      "source": [
        "from abc import ABCMeta, abstractmethod\n",
        "class Conta(metaclass=ABCMeta):\n",
        "  def __init__(self, codigo):\n",
        "    self._codigo = codigo\n",
        "    self._saldo = 0\n",
        "\n",
        "  def depositar(self, valor):\n",
        "    self._saldo += valor\n",
        "  \n",
        "  @abstractmethod\n",
        "  def passa_o_mes(self):\n",
        "    pass\n",
        "\n",
        "  def __str__(self):\n",
        "      return \"[>>codigo {} saldo {}<<]\" . format(self._codigo, self._saldo)"
      ],
      "metadata": {
        "id": "X__Xj3h-1B_0"
      },
      "execution_count": 15,
      "outputs": []
    },
    {
      "cell_type": "code",
      "source": [
        "print(Conta(88))"
      ],
      "metadata": {
        "colab": {
          "base_uri": "https://localhost:8080/",
          "height": 183
        },
        "id": "6dHr-3rruNSW",
        "outputId": "3768c1d4-7dec-4a3e-c391-5344e70d2d0f"
      },
      "execution_count": null,
      "outputs": [
        {
          "output_type": "error",
          "ename": "TypeError",
          "evalue": "ignored",
          "traceback": [
            "\u001b[0;31m---------------------------------------------------------------------------\u001b[0m",
            "\u001b[0;31mTypeError\u001b[0m                                 Traceback (most recent call last)",
            "\u001b[0;32m<ipython-input-9-bcabbe50454b>\u001b[0m in \u001b[0;36m<module>\u001b[0;34m\u001b[0m\n\u001b[0;32m----> 1\u001b[0;31m \u001b[0mprint\u001b[0m\u001b[0;34m(\u001b[0m\u001b[0mConta\u001b[0m\u001b[0;34m(\u001b[0m\u001b[0;36m88\u001b[0m\u001b[0;34m)\u001b[0m\u001b[0;34m)\u001b[0m\u001b[0;34m\u001b[0m\u001b[0;34m\u001b[0m\u001b[0m\n\u001b[0m",
            "\u001b[0;31mTypeError\u001b[0m: Can't instantiate abstract class Conta with abstract methods passa_o_mes"
          ]
        }
      ]
    },
    {
      "cell_type": "code",
      "source": [
        "class ContaCorrente(Conta):\n",
        "    def passa_o_mes(self):\n",
        "      self._saldo -= 2\n",
        "\n",
        "class ContaPoupanca(Conta):\n",
        "    def passa_o_mes(self):\n",
        "      self._saldo *= 1.01\n",
        "      self._saldo -= 3\n",
        "\n",
        "class ContaInvestimento(Conta):\n",
        "  pass"
      ],
      "metadata": {
        "id": "97642lNcubZJ"
      },
      "execution_count": 16,
      "outputs": []
    },
    {
      "cell_type": "code",
      "source": [
        "conta10 = ContaCorrente(10)\n",
        "conta10.depositar(1000)\n",
        "conta10.passa_o_mes()\n",
        "print(conta10)"
      ],
      "metadata": {
        "colab": {
          "base_uri": "https://localhost:8080/"
        },
        "id": "JLTtD3eTvphV",
        "outputId": "917a1674-c428-45ed-a68a-c79d2d4675a0"
      },
      "execution_count": null,
      "outputs": [
        {
          "output_type": "stream",
          "name": "stdout",
          "text": [
            "[>>codigo 10 saldo 998<<]\n"
          ]
        }
      ]
    },
    {
      "cell_type": "code",
      "source": [
        "conta11 = ContaPoupanca(11)\n",
        "conta11.depositar(1000)\n",
        "conta11.passa_o_mes()\n",
        "print(conta11)"
      ],
      "metadata": {
        "colab": {
          "base_uri": "https://localhost:8080/"
        },
        "id": "SndqVDxRw9x7",
        "outputId": "bafb5672-fa75-4ec8-845e-00b0a55e71fc"
      },
      "execution_count": null,
      "outputs": [
        {
          "output_type": "stream",
          "name": "stdout",
          "text": [
            "[>>codigo 11 saldo 1007.0<<]\n"
          ]
        }
      ]
    },
    {
      "cell_type": "code",
      "source": [
        "ContaInvestimento(00)"
      ],
      "metadata": {
        "colab": {
          "base_uri": "https://localhost:8080/",
          "height": 183
        },
        "id": "2CP-8_ropUoQ",
        "outputId": "619d67b5-888d-49d3-c099-abf477c94be3"
      },
      "execution_count": null,
      "outputs": [
        {
          "output_type": "error",
          "ename": "TypeError",
          "evalue": "ignored",
          "traceback": [
            "\u001b[0;31m---------------------------------------------------------------------------\u001b[0m",
            "\u001b[0;31mTypeError\u001b[0m                                 Traceback (most recent call last)",
            "\u001b[0;32m<ipython-input-13-9e0a7b5d4b99>\u001b[0m in \u001b[0;36m<module>\u001b[0;34m\u001b[0m\n\u001b[0;32m----> 1\u001b[0;31m \u001b[0mContaInvestimento\u001b[0m\u001b[0;34m(\u001b[0m\u001b[0;36m00\u001b[0m\u001b[0;34m)\u001b[0m\u001b[0;34m\u001b[0m\u001b[0;34m\u001b[0m\u001b[0m\n\u001b[0m",
            "\u001b[0;31mTypeError\u001b[0m: Can't instantiate abstract class ContaInvestimento with abstract methods passa_o_mes"
          ]
        }
      ]
    },
    {
      "cell_type": "code",
      "source": [
        "conta10 = ContaCorrente(10)\n",
        "conta10.depositar(1000)\n",
        "conta11 = ContaPoupanca(11)\n",
        "conta11.depositar(1000)\n",
        "contas = [conta10, conta11]\n",
        "\n",
        "for conta in contas:\n",
        "  conta.passa_o_mes()\n",
        "  print(conta)"
      ],
      "metadata": {
        "colab": {
          "base_uri": "https://localhost:8080/"
        },
        "id": "H98Rw5bnxX0Y",
        "outputId": "225ae906-0ba1-4595-d18a-d775c6a83387"
      },
      "execution_count": null,
      "outputs": [
        {
          "output_type": "stream",
          "name": "stdout",
          "text": [
            "[>>codigo 10 saldo 998<<]\n",
            "[>>codigo 11 saldo 1007.0<<]\n"
          ]
        }
      ]
    },
    {
      "cell_type": "markdown",
      "source": [
        "array, evitar usar"
      ],
      "metadata": {
        "id": "oOhcC_fglFsS"
      }
    },
    {
      "cell_type": "code",
      "source": [
        "import array as arr\n",
        "\n",
        "arr.array('d', [1, 3.5])"
      ],
      "metadata": {
        "colab": {
          "base_uri": "https://localhost:8080/"
        },
        "id": "3P7aiA0klOHO",
        "outputId": "219c2f4a-b175-4167-9592-e4f6fdf7272b"
      },
      "execution_count": null,
      "outputs": [
        {
          "output_type": "execute_result",
          "data": {
            "text/plain": [
              "array('d', [1.0, 3.5])"
            ]
          },
          "metadata": {},
          "execution_count": 1
        }
      ]
    },
    {
      "cell_type": "code",
      "source": [
        "import numpy as np\n",
        "\n",
        "\n",
        "num = np.array([1, 3.5])"
      ],
      "metadata": {
        "id": "y5ZMhODQlyMr"
      },
      "execution_count": null,
      "outputs": []
    },
    {
      "cell_type": "code",
      "source": [
        "num + 10"
      ],
      "metadata": {
        "colab": {
          "base_uri": "https://localhost:8080/"
        },
        "id": "FQHQE86Bl_9W",
        "outputId": "d37e4b48-90cd-425c-9f7b-69871436c2aa"
      },
      "execution_count": null,
      "outputs": [
        {
          "output_type": "execute_result",
          "data": {
            "text/plain": [
              "array([11. , 13.5])"
            ]
          },
          "metadata": {},
          "execution_count": 7
        }
      ]
    },
    {
      "cell_type": "code",
      "source": [
        "class ContaSalario:\n",
        "\n",
        "  def __init__(self, codigo):\n",
        "    self._codigo = codigo\n",
        "    self._saldo = 0\n",
        "\n",
        "  def __eq__(self, outro):\n",
        "     if type(outro)!= ContaSalario:\n",
        "       return False\n",
        "     return self._codigo == outro._codigo and self._saldo == outro._saldo\n",
        "\n",
        "  def depositar(self, valor):\n",
        "    self._saldo += valor\n",
        "\n",
        "  def __str__(self):\n",
        "    return \"[>>código {} Saldo{}<<]\" .format(self._codigo, self._saldo)"
      ],
      "metadata": {
        "id": "aYL1ugcj_pym"
      },
      "execution_count": 12,
      "outputs": []
    },
    {
      "cell_type": "code",
      "source": [
        "conta1 = ContaSalario(40)\n",
        "conta2 = ContaCorrente(40)\n",
        "conta1 == conta2"
      ],
      "metadata": {
        "colab": {
          "base_uri": "https://localhost:8080/"
        },
        "id": "tSrSqzNeBefy",
        "outputId": "3d0e924d-c4db-4337-93cf-51a8e953a8ec"
      },
      "execution_count": null,
      "outputs": [
        {
          "output_type": "execute_result",
          "data": {
            "text/plain": [
              "False"
            ]
          },
          "metadata": {},
          "execution_count": 29
        }
      ]
    },
    {
      "cell_type": "code",
      "source": [
        "idades = [10, 20, 50, 30, 30]\n",
        "\n",
        "for i in range(len(idades)):\n",
        "  print(i, idades[i])\n",
        "\n"
      ],
      "metadata": {
        "colab": {
          "base_uri": "https://localhost:8080/"
        },
        "id": "xDcbbDKNBytb",
        "outputId": "375b8813-3f0b-4901-9330-d7a20862ac10"
      },
      "execution_count": 3,
      "outputs": [
        {
          "output_type": "stream",
          "name": "stdout",
          "text": [
            "0 10\n",
            "1 20\n",
            "2 50\n",
            "3 30\n",
            "4 30\n"
          ]
        }
      ]
    },
    {
      "cell_type": "code",
      "source": [
        "list(enumerate(idades))"
      ],
      "metadata": {
        "colab": {
          "base_uri": "https://localhost:8080/"
        },
        "id": "OpqX16LhbyK4",
        "outputId": "a7f660cb-1fac-4ca4-8662-0d06beae5c27"
      },
      "execution_count": 4,
      "outputs": [
        {
          "output_type": "execute_result",
          "data": {
            "text/plain": [
              "[(0, 10), (1, 20), (2, 50), (3, 30), (4, 30)]"
            ]
          },
          "metadata": {},
          "execution_count": 4
        }
      ]
    },
    {
      "cell_type": "code",
      "source": [
        "for valor in enumerate(idades):\n",
        "  print(valor)"
      ],
      "metadata": {
        "colab": {
          "base_uri": "https://localhost:8080/"
        },
        "id": "_u6X9uq6b5V_",
        "outputId": "5cab5e59-c698-4ad7-8c0b-73020adbd78e"
      },
      "execution_count": 5,
      "outputs": [
        {
          "output_type": "stream",
          "name": "stdout",
          "text": [
            "(0, 10)\n",
            "(1, 20)\n",
            "(2, 50)\n",
            "(3, 30)\n",
            "(4, 30)\n"
          ]
        }
      ]
    },
    {
      "cell_type": "code",
      "source": [
        "sorted(idades)"
      ],
      "metadata": {
        "colab": {
          "base_uri": "https://localhost:8080/"
        },
        "id": "5JHefCOwv1b_",
        "outputId": "2db8dc57-1c96-406f-92ab-ef5b8e095bdd"
      },
      "execution_count": 7,
      "outputs": [
        {
          "output_type": "execute_result",
          "data": {
            "text/plain": [
              "[10, 20, 30, 30, 50]"
            ]
          },
          "metadata": {},
          "execution_count": 7
        }
      ]
    },
    {
      "cell_type": "code",
      "source": [
        "list(reversed(idades))"
      ],
      "metadata": {
        "colab": {
          "base_uri": "https://localhost:8080/"
        },
        "id": "QeV51gjpwORA",
        "outputId": "535321f4-53ed-44c8-cdfc-d00889a41579"
      },
      "execution_count": 10,
      "outputs": [
        {
          "output_type": "execute_result",
          "data": {
            "text/plain": [
              "[30, 30, 50, 20, 10]"
            ]
          },
          "metadata": {},
          "execution_count": 10
        }
      ]
    },
    {
      "cell_type": "code",
      "source": [
        "sorted(idades, reverse=True)"
      ],
      "metadata": {
        "colab": {
          "base_uri": "https://localhost:8080/"
        },
        "id": "YWRV9yiCwndF",
        "outputId": "8e15a4a5-e704-4f92-e80f-5e83f054d879"
      },
      "execution_count": 11,
      "outputs": [
        {
          "output_type": "execute_result",
          "data": {
            "text/plain": [
              "[50, 30, 30, 20, 10]"
            ]
          },
          "metadata": {},
          "execution_count": 11
        }
      ]
    },
    {
      "cell_type": "code",
      "source": [
        "class ContaSalario:\n",
        "\n",
        "  def __init__(self, codigo):\n",
        "    self._codigo = codigo\n",
        "    self._saldo = 0\n",
        "\n",
        "  def __eq__(self, outro):\n",
        "     if type(outro)!= ContaSalario:\n",
        "       return False\n",
        "     return self._codigo == outro._codigo and self._saldo == outro._saldo\n",
        "\n",
        "  def __lt__(self, outro):\n",
        "    return self._saldo < outro._saldo\n",
        " \n",
        "  def depositar(self, valor):\n",
        "    self._saldo += valor\n",
        "\n",
        "  def __str__(self):\n",
        "    return \"[>> código {} Saldo {} <<]\" .format(self._codigo, self._saldo)"
      ],
      "metadata": {
        "id": "MhFXEiLK6uOZ"
      },
      "execution_count": 30,
      "outputs": []
    },
    {
      "cell_type": "code",
      "source": [
        "conta_anna = ContaSalario(130)\n",
        "conta_anna.depositar(5000)\n",
        "\n",
        "conta_dani = ContaSalario(9)\n",
        "conta_dani.depositar(5000)\n",
        "\n",
        "conta_lili = ContaSalario(157)\n",
        "conta_lili.depositar(900)\n",
        "\n",
        "contas = [conta_anna, conta_dani, conta_lili]"
      ],
      "metadata": {
        "id": "MQca7Vu68LMD"
      },
      "execution_count": 32,
      "outputs": []
    },
    {
      "cell_type": "code",
      "source": [
        "for conta in contas:\n",
        "  print(conta)"
      ],
      "metadata": {
        "colab": {
          "base_uri": "https://localhost:8080/"
        },
        "id": "J-ut_S1E99f_",
        "outputId": "c3dd0358-f081-461a-e12d-21a17c10f394"
      },
      "execution_count": 33,
      "outputs": [
        {
          "output_type": "stream",
          "name": "stdout",
          "text": [
            "[>> código 13 Saldo 500 <<]\n",
            "[>> código 9 Saldo 5000 <<]\n",
            "[>> código 157 Saldo 900 <<]\n"
          ]
        }
      ]
    },
    {
      "cell_type": "code",
      "source": [
        "def extrai_saldo(conta):\n",
        "  return conta._saldo\n",
        "\n",
        "for conta in sorted(contas, key=extrai_saldo):\n",
        "  print(conta)"
      ],
      "metadata": {
        "colab": {
          "base_uri": "https://localhost:8080/"
        },
        "id": "Az-kUMp2-M8y",
        "outputId": "811ea65a-6fde-4a6a-a20b-56f475101163"
      },
      "execution_count": 27,
      "outputs": [
        {
          "output_type": "stream",
          "name": "stdout",
          "text": [
            "[>> código 13 Saldo 500 <<]\n",
            "[>> código 157 Saldo 900 <<]\n",
            "[>> código 9 Saldo 5000 <<]\n"
          ]
        }
      ]
    },
    {
      "cell_type": "code",
      "source": [
        "from operator import attrgetter\n",
        "\n",
        "for conta in sorted(contas, key=attrgetter(\"_saldo\")):\n",
        "  print(conta)"
      ],
      "metadata": {
        "colab": {
          "base_uri": "https://localhost:8080/"
        },
        "id": "XryEgR9T_Mig",
        "outputId": "a373388e-133f-469d-f63e-72c2bdb99fd9"
      },
      "execution_count": 34,
      "outputs": [
        {
          "output_type": "stream",
          "name": "stdout",
          "text": [
            "[>> código 13 Saldo 500 <<]\n",
            "[>> código 157 Saldo 900 <<]\n",
            "[>> código 9 Saldo 5000 <<]\n"
          ]
        }
      ]
    },
    {
      "cell_type": "code",
      "source": [
        "conta_anna < conta_dani"
      ],
      "metadata": {
        "colab": {
          "base_uri": "https://localhost:8080/"
        },
        "id": "4ajOWhJlAyeJ",
        "outputId": "9bdafe13-bb45-48da-870a-e59d170758ab"
      },
      "execution_count": 35,
      "outputs": [
        {
          "output_type": "execute_result",
          "data": {
            "text/plain": [
              "True"
            ]
          },
          "metadata": {},
          "execution_count": 35
        }
      ]
    },
    {
      "cell_type": "code",
      "source": [
        "for conta in sorted(contas):\n",
        "  print(conta)"
      ],
      "metadata": {
        "colab": {
          "base_uri": "https://localhost:8080/"
        },
        "id": "1Jp5mK5sBJuE",
        "outputId": "cffac349-8cd7-477b-e239-a311d6c9e6e8"
      },
      "execution_count": 37,
      "outputs": [
        {
          "output_type": "stream",
          "name": "stdout",
          "text": [
            "[>> código 13 Saldo 500 <<]\n",
            "[>> código 157 Saldo 900 <<]\n",
            "[>> código 9 Saldo 5000 <<]\n"
          ]
        }
      ]
    },
    {
      "cell_type": "code",
      "source": [
        "class ContaSalario:\n",
        "\n",
        "  def __init__(self, codigo):\n",
        "    self._codigo = codigo\n",
        "    self._saldo = 0\n",
        "\n",
        "  def __eq__(self, outro):\n",
        "     if type(outro)!= ContaSalario:\n",
        "       return False\n",
        "     return self._codigo == outro._codigo and self._saldo == outro._saldo\n",
        "\n",
        "  def __lt__(self, outro):\n",
        "    return self._saldo < outro._saldo and self.codigo < outro._codigo\n",
        "\n",
        " \n",
        "  def depositar(self, valor):\n",
        "    self._saldo += valor\n",
        "\n",
        "  def __str__(self):\n",
        "    return \"[>> código {} Saldo {} <<]\" .format(self._codigo, self._saldo)"
      ],
      "metadata": {
        "id": "5ta8SB5hB538"
      },
      "execution_count": 47,
      "outputs": []
    },
    {
      "cell_type": "code",
      "source": [
        "conta_anna = ContaSalario(130)\n",
        "conta_anna.depositar(5000)\n",
        "\n",
        "conta_dani = ContaSalario(9)\n",
        "conta_dani.depositar(5000)\n",
        "\n",
        "conta_lili = ContaSalario(157)\n",
        "conta_lili.depositar(900)\n",
        "\n",
        "contas = [conta_anna, conta_dani, conta_lili]"
      ],
      "metadata": {
        "id": "v8P_Blw3B69w"
      },
      "execution_count": 45,
      "outputs": []
    },
    {
      "cell_type": "code",
      "source": [
        "from functools import total_ordering\n",
        "\n",
        "@total_ordering\n",
        "class ContaSalario:\n",
        "\n",
        "  def __init__(self, codigo):\n",
        "    self._codigo = codigo\n",
        "    self._saldo = 0\n",
        "\n",
        "  def __eq__(self, outro):\n",
        "     if type(outro)!= ContaSalario:\n",
        "       return False\n",
        "     return self._codigo == outro._codigo and self._saldo == outro._saldo\n",
        "\n",
        "  def __lt__(self, outro):\n",
        "      if self._saldo != outro._saldo:\n",
        "        return self._saldo < outro._saldo\n",
        "        \n",
        "        self._codigo < outro._codigo\n",
        "\n",
        "  def depositar(self, valor):\n",
        "    self._saldo += valor\n",
        "\n",
        "  def __str__(self):\n",
        "    return \"[>> código {} Saldo {} <<]\" .format(self._codigo, self._saldo)"
      ],
      "metadata": {
        "id": "DBULDxx7FQ5R"
      },
      "execution_count": 65,
      "outputs": []
    },
    {
      "cell_type": "code",
      "source": [
        "conta_anna = ContaSalario(130)\n",
        "conta_anna.depositar(5000)\n",
        "\n",
        "conta_dani = ContaSalario(9000)\n",
        "conta_dani.depositar(5000)\n",
        "\n",
        "conta_lili = ContaSalario(157)\n",
        "conta_lili.depositar(900)\n",
        "\n",
        "contas = [conta_anna, conta_dani, conta_lili]"
      ],
      "metadata": {
        "id": "mEzi_EInFvYh"
      },
      "execution_count": 66,
      "outputs": []
    },
    {
      "cell_type": "code",
      "source": [
        "for conta in sorted(contas):\n",
        "  print(conta)"
      ],
      "metadata": {
        "colab": {
          "base_uri": "https://localhost:8080/"
        },
        "id": "191SfDYGFyuP",
        "outputId": "f8c96df2-9dca-482a-fd6a-dfe3d93aaa7a"
      },
      "execution_count": 64,
      "outputs": [
        {
          "output_type": "stream",
          "name": "stdout",
          "text": [
            "[>> código 157 Saldo 900 <<]\n",
            "[>> código 130 Saldo 3000 <<]\n",
            "[>> código 9000 Saldo 5000 <<]\n"
          ]
        }
      ]
    },
    {
      "cell_type": "code",
      "source": [
        "conta_anna <= conta_dani"
      ],
      "metadata": {
        "colab": {
          "base_uri": "https://localhost:8080/"
        },
        "id": "cA_o_AJvITpA",
        "outputId": "c4cc64f7-ec81-4d65-d40a-bf74a400f290"
      },
      "execution_count": 67,
      "outputs": [
        {
          "output_type": "execute_result",
          "data": {
            "text/plain": [
              "False"
            ]
          },
          "metadata": {},
          "execution_count": 67
        }
      ]
    }
  ]
}